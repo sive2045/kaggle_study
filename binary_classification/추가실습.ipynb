{
 "cells": [
  {
   "cell_type": "code",
   "execution_count": 2,
   "metadata": {},
   "outputs": [],
   "source": [
    "from keras.datasets import imdb\n",
    "import numpy as np\n",
    "from keras import models\n",
    "from keras import layers\n",
    "import matplotlib.pyplot as plt\n",
    "\n",
    "# 데이터셋 로드하기\n",
    "(train_data, train_labels), (test_data, test_labels) = imdb.load_data(\n",
    "num_words=10000)\n",
    "\n",
    "def vectorize_sequences(sequences, dimension=10000):\n",
    "    results = np.zeros((len(sequences), dimension)) \n",
    "    for i, sequence in enumerate(sequences):\n",
    "        results[i, sequence] = 1.\n",
    "    return results\n",
    "\n",
    "x_train = vectorize_sequences(train_data)\n",
    "x_test = vectorize_sequences(test_data)\n",
    "\n",
    "y_train = np.asarray(train_labels).astype('float32')\n",
    "y_test = np.asarray(test_labels).astype('float32')\n",
    "\n",
    "model = models.Sequential()\n",
    "model.add(layers.Dense(16, activation='relu', input_shape=(10000,)))\n",
    "model.add(layers.Dense(1, activation='sigmoid'))\n",
    "\n",
    "model.compile(optimizer='rmsprop',           \n",
    "              loss='binary_crossentropy',   \n",
    "              metrics=['accuracy'])    "
   ]
  },
  {
   "cell_type": "code",
   "execution_count": 4,
   "metadata": {},
   "outputs": [
    {
     "name": "stdout",
     "output_type": "stream",
     "text": [
      "Epoch 1/5\n",
      "49/49 [==============================] - 0s 9ms/step - loss: 0.0964 - accuracy: 0.9696\n",
      "Epoch 2/5\n",
      "49/49 [==============================] - 0s 9ms/step - loss: 0.0900 - accuracy: 0.9721\n",
      "Epoch 3/5\n",
      "49/49 [==============================] - 0s 9ms/step - loss: 0.0830 - accuracy: 0.9745\n",
      "Epoch 4/5\n",
      "49/49 [==============================] - 0s 9ms/step - loss: 0.0774 - accuracy: 0.9770\n",
      "Epoch 5/5\n",
      "49/49 [==============================] - 0s 9ms/step - loss: 0.0720 - accuracy: 0.9785\n"
     ]
    },
    {
     "data": {
      "text/plain": [
       "<keras.callbacks.History at 0x24fa3f7b580>"
      ]
     },
     "execution_count": 4,
     "metadata": {},
     "output_type": "execute_result"
    }
   ],
   "source": [
    "x_val = x_train[:10000]\n",
    "partial_x_train = x_train[10000:]\n",
    "\n",
    "y_val = y_train[:10000]\n",
    "partial_y_train = y_train[10000:]\n",
    "\n",
    "model.fit(x_train, y_train, epochs=5, batch_size=512)"
   ]
  },
  {
   "cell_type": "code",
   "execution_count": 5,
   "metadata": {},
   "outputs": [
    {
     "name": "stdout",
     "output_type": "stream",
     "text": [
      "782/782 [==============================] - 2s 2ms/step - loss: 0.4391 - accuracy: 0.8589\n",
      "평가 결과 [0.43914997577667236, 0.8589199781417847]\n"
     ]
    }
   ],
   "source": [
    "results = model.evaluate(x_test, y_test) # test 데이터를 사용해 평가함\n",
    "print(f'평가 결과 {results}')"
   ]
  },
  {
   "cell_type": "code",
   "execution_count": 6,
   "metadata": {},
   "outputs": [
    {
     "name": "stdout",
     "output_type": "stream",
     "text": [
      "Epoch 1/5\n",
      "49/49 [==============================] - 1s 9ms/step - loss: 0.4748 - accuracy: 0.8159\n",
      "Epoch 2/5\n",
      "49/49 [==============================] - 0s 10ms/step - loss: 0.2637 - accuracy: 0.9076\n",
      "Epoch 3/5\n",
      "49/49 [==============================] - 0s 9ms/step - loss: 0.1984 - accuracy: 0.9298\n",
      "Epoch 4/5\n",
      "49/49 [==============================] - 0s 10ms/step - loss: 0.1670 - accuracy: 0.9400\n",
      "Epoch 5/5\n",
      "49/49 [==============================] - 0s 9ms/step - loss: 0.1412 - accuracy: 0.9502\n"
     ]
    },
    {
     "data": {
      "text/plain": [
       "<keras.callbacks.History at 0x2521644ef10>"
      ]
     },
     "execution_count": 6,
     "metadata": {},
     "output_type": "execute_result"
    }
   ],
   "source": [
    "model = models.Sequential()\n",
    "model.add(layers.Dense(16, activation='relu', input_shape=(10000,)))\n",
    "model.add(layers.Dense(16, activation='relu'))\n",
    "model.add(layers.Dense(16, activation='relu'))\n",
    "model.add(layers.Dense(1, activation='sigmoid'))\n",
    "\n",
    "model.compile(optimizer='rmsprop',           \n",
    "              loss='binary_crossentropy',   \n",
    "              metrics=['accuracy'])   \n",
    "              \n",
    "model.fit(x_train, y_train, epochs=5, batch_size=512)              "
   ]
  },
  {
   "cell_type": "code",
   "execution_count": 7,
   "metadata": {},
   "outputs": [
    {
     "name": "stdout",
     "output_type": "stream",
     "text": [
      "782/782 [==============================] - 2s 2ms/step - loss: 0.3281 - accuracy: 0.8782\n",
      "평가 결과 [0.32812726497650146, 0.8782399892807007]\n"
     ]
    }
   ],
   "source": [
    "results = model.evaluate(x_test, y_test) # test 데이터를 사용해 평가함\n",
    "print(f'평가 결과 {results}')"
   ]
  },
  {
   "cell_type": "code",
   "execution_count": 8,
   "metadata": {},
   "outputs": [
    {
     "name": "stdout",
     "output_type": "stream",
     "text": [
      "Epoch 1/5\n",
      "49/49 [==============================] - 1s 9ms/step - loss: 0.4235 - accuracy: 0.8119\n",
      "Epoch 2/5\n",
      "49/49 [==============================] - 0s 9ms/step - loss: 0.2348 - accuracy: 0.9091\n",
      "Epoch 3/5\n",
      "49/49 [==============================] - 0s 9ms/step - loss: 0.1862 - accuracy: 0.9294\n",
      "Epoch 4/5\n",
      "49/49 [==============================] - 0s 9ms/step - loss: 0.1455 - accuracy: 0.9457\n",
      "Epoch 5/5\n",
      "49/49 [==============================] - 0s 9ms/step - loss: 0.1140 - accuracy: 0.9574\n"
     ]
    },
    {
     "data": {
      "text/plain": [
       "<keras.callbacks.History at 0x25251e5dd60>"
      ]
     },
     "execution_count": 8,
     "metadata": {},
     "output_type": "execute_result"
    }
   ],
   "source": [
    "model = models.Sequential()\n",
    "model.add(layers.Dense(64, activation='relu', input_shape=(10000,)))\n",
    "model.add(layers.Dense(64, activation='relu'))\n",
    "model.add(layers.Dense(1, activation='sigmoid'))\n",
    "\n",
    "model.compile(optimizer='rmsprop',           \n",
    "              loss='binary_crossentropy',   \n",
    "              metrics=['accuracy'])   \n",
    "model.fit(x_train, y_train, epochs=5, batch_size=512)                 "
   ]
  },
  {
   "cell_type": "code",
   "execution_count": 9,
   "metadata": {},
   "outputs": [
    {
     "name": "stdout",
     "output_type": "stream",
     "text": [
      "782/782 [==============================] - 2s 2ms/step - loss: 0.3896 - accuracy: 0.8618\n",
      "평가 결과 [0.3896455466747284, 0.8617600202560425]\n"
     ]
    }
   ],
   "source": [
    "results = model.evaluate(x_test, y_test) # test 데이터를 사용해 평가함\n",
    "print(f'평가 결과 {results}')"
   ]
  },
  {
   "cell_type": "code",
   "execution_count": null,
   "metadata": {},
   "outputs": [],
   "source": []
  }
 ],
 "metadata": {
  "interpreter": {
   "hash": "74269b44421b5226088cbe396a698e57b32e99aa8b9587c89bc5a30ffed5a971"
  },
  "kernelspec": {
   "display_name": "Python 3.9.7 64-bit ('kaggle': conda)",
   "language": "python",
   "name": "python3"
  },
  "language_info": {
   "codemirror_mode": {
    "name": "ipython",
    "version": 3
   },
   "file_extension": ".py",
   "mimetype": "text/x-python",
   "name": "python",
   "nbconvert_exporter": "python",
   "pygments_lexer": "ipython3",
   "version": "3.9.7"
  },
  "orig_nbformat": 4
 },
 "nbformat": 4,
 "nbformat_minor": 2
}
