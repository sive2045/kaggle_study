{
 "cells": [
  {
   "cell_type": "markdown",
   "metadata": {},
   "source": [
    "# 4.3 데이터 전처리, 특성 공학, 특성 학습\n",
    "\n",
    "## 4.3.1 신경망을 위한 데이터 전처리\n",
    "<p>\n",
    "    목적 : 신경망에 적용하기 쉽도록 만드는 것.<br/>\n",
    "    Vectorization, Normalization, Feature Engineering 등\n",
    "</p>\n",
    "<br/>\n",
    "\n",
    "<ul>\n",
    "    <li>Vectorization - 모든 입력과 target을 floating num data로 변환해야한다.</li>\n",
    "    <li>Normalization - 데이터 처리를 위해 정규화 과정을 거친다.</li>\n",
    "    <li>\n",
    "        Feature Engineering - 다양한 공학적 문제를 보다 쉽게 표현하는 과정 <br/><br/>\n",
    "        예시 : <br/><img src=\"feature.png\">\n",
    "    </li>\n",
    "</ul>"
   ]
  },
  {
   "cell_type": "markdown",
   "metadata": {},
   "source": [
    "$$\\mathbf w=\\mathbf X^{\\dagger}\\mathbf y, \\qquad Moore-Penrose\\ inverse(pseudoinverse) $$\n",
    "$$\\mathbf X^{\\dagger}=(X^{*}X)^{-1}X^{*}, \\qquad if\\ \\mathbf X\\ is\\ invertible\\ $$"
   ]
  },
  {
   "cell_type": "markdown",
   "metadata": {},
   "source": []
  }
 ],
 "metadata": {
  "language_info": {
   "name": "python"
  },
  "orig_nbformat": 4
 },
 "nbformat": 4,
 "nbformat_minor": 2
}
