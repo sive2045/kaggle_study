{
 "cells": [
  {
   "cell_type": "code",
   "execution_count": 1,
   "metadata": {},
   "outputs": [],
   "source": [
    "import pandas as pd\n",
    "import numpy as np\n",
    "import matplotlib.pyplot as plt\n",
    "from mpl_toolkits.mplot3d import axes3d  "
   ]
  },
  {
   "cell_type": "code",
   "execution_count": 2,
   "metadata": {},
   "outputs": [
    {
     "data": {
      "text/html": [
       "<div>\n",
       "<style scoped>\n",
       "    .dataframe tbody tr th:only-of-type {\n",
       "        vertical-align: middle;\n",
       "    }\n",
       "\n",
       "    .dataframe tbody tr th {\n",
       "        vertical-align: top;\n",
       "    }\n",
       "\n",
       "    .dataframe thead th {\n",
       "        text-align: right;\n",
       "    }\n",
       "</style>\n",
       "<table border=\"1\" class=\"dataframe\">\n",
       "  <thead>\n",
       "    <tr style=\"text-align: right;\">\n",
       "      <th></th>\n",
       "      <th>tall</th>\n",
       "      <th>weight</th>\n",
       "      <th>label</th>\n",
       "    </tr>\n",
       "  </thead>\n",
       "  <tbody>\n",
       "    <tr>\n",
       "      <th>0</th>\n",
       "      <td>152.6</td>\n",
       "      <td>44.7</td>\n",
       "      <td>11.5</td>\n",
       "    </tr>\n",
       "    <tr>\n",
       "      <th>1</th>\n",
       "      <td>160.4</td>\n",
       "      <td>39.9</td>\n",
       "      <td>15.8</td>\n",
       "    </tr>\n",
       "    <tr>\n",
       "      <th>2</th>\n",
       "      <td>112.2</td>\n",
       "      <td>21.1</td>\n",
       "      <td>6.6</td>\n",
       "    </tr>\n",
       "    <tr>\n",
       "      <th>3</th>\n",
       "      <td>159.3</td>\n",
       "      <td>46.4</td>\n",
       "      <td>15.6</td>\n",
       "    </tr>\n",
       "    <tr>\n",
       "      <th>4</th>\n",
       "      <td>150.9</td>\n",
       "      <td>46.6</td>\n",
       "      <td>11.0</td>\n",
       "    </tr>\n",
       "  </tbody>\n",
       "</table>\n",
       "</div>"
      ],
      "text/plain": [
       "    tall  weight  label\n",
       "0  152.6    44.7   11.5\n",
       "1  160.4    39.9   15.8\n",
       "2  112.2    21.1    6.6\n",
       "3  159.3    46.4   15.6\n",
       "4  150.9    46.6   11.0"
      ]
     },
     "execution_count": 2,
     "metadata": {},
     "output_type": "execute_result"
    }
   ],
   "source": [
    "# 데이터 읽기\n",
    "raw_data = pd.read_csv('linear_regression_data.csv', encoding='utf-8', engine='python')\n",
    "raw_data.head()"
   ]
  },
  {
   "cell_type": "code",
   "execution_count": 8,
   "metadata": {},
   "outputs": [
    {
     "data": {
      "image/png": "[encoded data removed]",
      "image/svg+xml": "<?xml version=\"1.0\" encoding=\"utf-8\" standalone=\"no\"?>\r\n<!DOCTYPE svg PUBLIC \"-//W3C//DTD SVG 1.1//EN\"\r\n  \"http://www.w3.org/Graphics/SVG/1.1/DTD/svg11.dtd\">\r\n<svg height=\"242.489332pt\" version=\"1.1\" viewBox=\"0 0 246.12305 242.489332\" width=\"246.12305pt\" xmlns=\"http://www.w3.org/2000/svg\" xmlns:xlink=\"http://www.w3.org/1999/xlink\">\r\n <metadata>\r\n  <rdf:RDF xmlns:cc=\"http://creativecommons.org/ns#\" xmlns:dc=\"http://purl.org/dc/elements/1.1/\" xmlns:rdf=\"http://www.w3.org/1999/02/22-rdf-syntax-ns#\">\r\n   <cc:Work>\r\n    <dc:type rdf:resource=\"http://purl.org/dc/dcmitype/StillImage\"/>\r\n    <dc:date>2022-01-08T12:19:49.837929</dc:date>\r\n    <dc:format>image/svg+xml</dc:format>\r\n    <dc:creator>\r\n     <cc:Agent>\r\n      <dc:title>Matplotlib v3.4.3, https://matplotlib.org/</dc:title>\r\n     </cc:Agent>\r\n    </dc:creator>\r\n   </cc:Work>\r\n  </rdf:RDF>\r\n </metadata>\r\n <defs>\r\n  <style type=\"text/css\">*{stroke-linecap:butt;stroke-linejoin:round;}</style>\r\n </defs>\r\n <g id=\"figure_1\">\r\n  <g id=\"patch_1\">\r\n   <path d=\"M 0 242.489332 \r\nL 246.12305 242.489332 \r\nL 246.12305 0 \r\nL 0 0 \r\nz\r\n\" style=\"fill:none;\"/>\r\n  </g>\r\n  <g id=\"patch_2\">\r\n   <path d=\"M 7.2 224.64 \r\nL 224.64 224.64 \r\nL 224.64 7.2 \r\nL 7.2 7.2 \r\nz\r\n\" style=\"fill:#ffffff;\"/>\r\n  </g>\r\n  <g id=\"pane3d_1\">\r\n   <g id=\"patch_3\">\r\n    <path d=\"M 23.61822 171.026264 \r\nL 95.424009 110.837228 \r\nL 94.42584 24.033878 \r\nL 19.183773 78.942111 \r\n\" style=\"fill:#f2f2f2;opacity:0.5;stroke:#f2f2f2;stroke-linejoin:miter;\"/>\r\n   </g>\r\n  </g>\r\n  <g id=\"pane3d_2\">\r\n   <g id=\"patch_4\">\r\n    <path d=\"M 95.424009 110.837228 \r\nL 210.64668 144.32791 \r\nL 214.758571 54.534718 \r\nL 94.42584 24.033878 \r\n\" style=\"fill:#e6e6e6;opacity:0.5;stroke:#e6e6e6;stroke-linejoin:miter;\"/>\r\n   </g>\r\n  </g>\r\n  <g id=\"pane3d_3\">\r\n   <g id=\"patch_5\">\r\n    <path d=\"M 23.61822 171.026264 \r\nL 145.759879 210.91773 \r\nL 210.64668 144.32791 \r\nL 95.424009 110.837228 \r\n\" style=\"fill:#ececec;opacity:0.5;stroke:#ececec;stroke-linejoin:miter;\"/>\r\n   </g>\r\n  </g>\r\n  <g id=\"axis3d_1\">\r\n   <g id=\"line2d_1\">\r\n    <path d=\"M 23.61822 171.026264 \r\nL 145.759879 210.91773 \r\n\" style=\"fill:none;stroke:#000000;stroke-linecap:square;stroke-width:0.8;\"/>\r\n   </g>\r\n   <g id=\"Line3DCollection_1\">\r\n    <path d=\"M 27.073321 172.154701 \r\nL 98.697401 111.788674 \r\nL 97.8374 24.898609 \r\n\" style=\"fill:none;stroke:#b0b0b0;stroke-width:0.8;\"/>\r\n    <path d=\"M 45.105072 178.04387 \r\nL 115.767544 116.750291 \r\nL 115.634692 29.409704 \r\n\" style=\"fill:none;stroke:#b0b0b0;stroke-width:0.8;\"/>\r\n    <path d=\"M 63.427016 184.027817 \r\nL 133.089595 121.785127 \r\nL 133.705998 33.990253 \r\n\" style=\"fill:none;stroke:#b0b0b0;stroke-width:0.8;\"/>\r\n    <path d=\"M 82.046213 190.108847 \r\nL 150.66917 126.894815 \r\nL 152.057695 38.641873 \r\n\" style=\"fill:none;stroke:#b0b0b0;stroke-width:0.8;\"/>\r\n    <path d=\"M 100.969959 196.289342 \r\nL 168.512056 132.081038 \r\nL 170.696359 43.366231 \r\n\" style=\"fill:none;stroke:#b0b0b0;stroke-width:0.8;\"/>\r\n    <path d=\"M 120.205786 202.571763 \r\nL 186.624212 137.345527 \r\nL 189.628774 48.165047 \r\n\" style=\"fill:none;stroke:#b0b0b0;stroke-width:0.8;\"/>\r\n    <path d=\"M 139.761479 208.958653 \r\nL 205.011782 142.690067 \r\nL 208.861941 53.040094 \r\n\" style=\"fill:none;stroke:#b0b0b0;stroke-width:0.8;\"/>\r\n   </g>\r\n   <g id=\"xtick_1\">\r\n    <g id=\"line2d_2\">\r\n     <path d=\"M 27.696931 171.629111 \r\nL 25.823429 173.208131 \r\n\" style=\"fill:none;stroke:#000000;stroke-linecap:square;stroke-width:0.8;\"/>\r\n    </g>\r\n    <g id=\"text_1\">\r\n     <!-- 60 -->\r\n     <g transform=\"translate(13.170771 195.443562)scale(0.1 -0.1)\">\r\n      <defs>\r\n       <path d=\"M 2113 2584 \r\nQ 1688 2584 1439 2293 \r\nQ 1191 2003 1191 1497 \r\nQ 1191 994 1439 701 \r\nQ 1688 409 2113 409 \r\nQ 2538 409 2786 701 \r\nQ 3034 994 3034 1497 \r\nQ 3034 2003 2786 2293 \r\nQ 2538 2584 2113 2584 \r\nz\r\nM 3366 4563 \r\nL 3366 3988 \r\nQ 3128 4100 2886 4159 \r\nQ 2644 4219 2406 4219 \r\nQ 1781 4219 1451 3797 \r\nQ 1122 3375 1075 2522 \r\nQ 1259 2794 1537 2939 \r\nQ 1816 3084 2150 3084 \r\nQ 2853 3084 3261 2657 \r\nQ 3669 2231 3669 1497 \r\nQ 3669 778 3244 343 \r\nQ 2819 -91 2113 -91 \r\nQ 1303 -91 875 529 \r\nQ 447 1150 447 2328 \r\nQ 447 3434 972 4092 \r\nQ 1497 4750 2381 4750 \r\nQ 2619 4750 2861 4703 \r\nQ 3103 4656 3366 4563 \r\nz\r\n\" id=\"DejaVuSans-36\" transform=\"scale(0.015625)\"/>\r\n       <path d=\"M 2034 4250 \r\nQ 1547 4250 1301 3770 \r\nQ 1056 3291 1056 2328 \r\nQ 1056 1369 1301 889 \r\nQ 1547 409 2034 409 \r\nQ 2525 409 2770 889 \r\nQ 3016 1369 3016 2328 \r\nQ 3016 3291 2770 3770 \r\nQ 2525 4250 2034 4250 \r\nz\r\nM 2034 4750 \r\nQ 2819 4750 3233 4129 \r\nQ 3647 3509 3647 2328 \r\nQ 3647 1150 3233 529 \r\nQ 2819 -91 2034 -91 \r\nQ 1250 -91 836 529 \r\nQ 422 1150 422 2328 \r\nQ 422 3509 836 4129 \r\nQ 1250 4750 2034 4750 \r\nz\r\n\" id=\"DejaVuSans-30\" transform=\"scale(0.015625)\"/>\r\n      </defs>\r\n      <use xlink:href=\"#DejaVuSans-36\"/>\r\n      <use x=\"63.623047\" xlink:href=\"#DejaVuSans-30\"/>\r\n     </g>\r\n    </g>\r\n   </g>\r\n   <g id=\"xtick_2\">\r\n    <g id=\"line2d_3\">\r\n     <path d=\"M 45.720708 177.509859 \r\nL 43.871142 179.114198 \r\n\" style=\"fill:none;stroke:#000000;stroke-linecap:square;stroke-width:0.8;\"/>\r\n    </g>\r\n    <g id=\"text_2\">\r\n     <!-- 80 -->\r\n     <g transform=\"translate(31.224672 201.485535)scale(0.1 -0.1)\">\r\n      <defs>\r\n       <path d=\"M 2034 2216 \r\nQ 1584 2216 1326 1975 \r\nQ 1069 1734 1069 1313 \r\nQ 1069 891 1326 650 \r\nQ 1584 409 2034 409 \r\nQ 2484 409 2743 651 \r\nQ 3003 894 3003 1313 \r\nQ 3003 1734 2745 1975 \r\nQ 2488 2216 2034 2216 \r\nz\r\nM 1403 2484 \r\nQ 997 2584 770 2862 \r\nQ 544 3141 544 3541 \r\nQ 544 4100 942 4425 \r\nQ 1341 4750 2034 4750 \r\nQ 2731 4750 3128 4425 \r\nQ 3525 4100 3525 3541 \r\nQ 3525 3141 3298 2862 \r\nQ 3072 2584 2669 2484 \r\nQ 3125 2378 3379 2068 \r\nQ 3634 1759 3634 1313 \r\nQ 3634 634 3220 271 \r\nQ 2806 -91 2034 -91 \r\nQ 1263 -91 848 271 \r\nQ 434 634 434 1313 \r\nQ 434 1759 690 2068 \r\nQ 947 2378 1403 2484 \r\nz\r\nM 1172 3481 \r\nQ 1172 3119 1398 2916 \r\nQ 1625 2713 2034 2713 \r\nQ 2441 2713 2670 2916 \r\nQ 2900 3119 2900 3481 \r\nQ 2900 3844 2670 4047 \r\nQ 2441 4250 2034 4250 \r\nQ 1625 4250 1398 4047 \r\nQ 1172 3844 1172 3481 \r\nz\r\n\" id=\"DejaVuSans-38\" transform=\"scale(0.015625)\"/>\r\n      </defs>\r\n      <use xlink:href=\"#DejaVuSans-38\"/>\r\n      <use x=\"63.623047\" xlink:href=\"#DejaVuSans-30\"/>\r\n     </g>\r\n    </g>\r\n   </g>\r\n   <g id=\"xtick_3\">\r\n    <g id=\"line2d_4\">\r\n     <path d=\"M 64.034339 183.485181 \r\nL 62.209725 185.115452 \r\n\" style=\"fill:none;stroke:#000000;stroke-linecap:square;stroke-width:0.8;\"/>\r\n    </g>\r\n    <g id=\"text_3\">\r\n     <!-- 100 -->\r\n     <g transform=\"translate(46.389214 207.625194)scale(0.1 -0.1)\">\r\n      <defs>\r\n       <path d=\"M 794 531 \r\nL 1825 531 \r\nL 1825 4091 \r\nL 703 3866 \r\nL 703 4441 \r\nL 1819 4666 \r\nL 2450 4666 \r\nL 2450 531 \r\nL 3481 531 \r\nL 3481 0 \r\nL 794 0 \r\nL 794 531 \r\nz\r\n\" id=\"DejaVuSans-31\" transform=\"scale(0.015625)\"/>\r\n      </defs>\r\n      <use xlink:href=\"#DejaVuSans-31\"/>\r\n      <use x=\"63.623047\" xlink:href=\"#DejaVuSans-30\"/>\r\n      <use x=\"127.246094\" xlink:href=\"#DejaVuSans-30\"/>\r\n     </g>\r\n    </g>\r\n   </g>\r\n   <g id=\"xtick_4\">\r\n    <g id=\"line2d_5\">\r\n     <path d=\"M 82.644873 189.557374 \r\nL 80.846267 191.214212 \r\n\" style=\"fill:none;stroke:#000000;stroke-linecap:square;stroke-width:0.8;\"/>\r\n    </g>\r\n    <g id=\"text_4\">\r\n     <!-- 120 -->\r\n     <g transform=\"translate(65.034034 213.864927)scale(0.1 -0.1)\">\r\n      <defs>\r\n       <path d=\"M 1228 531 \r\nL 3431 531 \r\nL 3431 0 \r\nL 469 0 \r\nL 469 531 \r\nQ 828 903 1448 1529 \r\nQ 2069 2156 2228 2338 \r\nQ 2531 2678 2651 2914 \r\nQ 2772 3150 2772 3378 \r\nQ 2772 3750 2511 3984 \r\nQ 2250 4219 1831 4219 \r\nQ 1534 4219 1204 4116 \r\nQ 875 4013 500 3803 \r\nL 500 4441 \r\nQ 881 4594 1212 4672 \r\nQ 1544 4750 1819 4750 \r\nQ 2544 4750 2975 4387 \r\nQ 3406 4025 3406 3419 \r\nQ 3406 3131 3298 2873 \r\nQ 3191 2616 2906 2266 \r\nQ 2828 2175 2409 1742 \r\nQ 1991 1309 1228 531 \r\nz\r\n\" id=\"DejaVuSans-32\" transform=\"scale(0.015625)\"/>\r\n      </defs>\r\n      <use xlink:href=\"#DejaVuSans-31\"/>\r\n      <use x=\"63.623047\" xlink:href=\"#DejaVuSans-32\"/>\r\n      <use x=\"127.246094\" xlink:href=\"#DejaVuSans-30\"/>\r\n     </g>\r\n    </g>\r\n   </g>\r\n   <g id=\"xtick_5\">\r\n    <g id=\"line2d_6\">\r\n     <path d=\"M 101.559589 195.728816 \r\nL 99.788091 197.412875 \r\n\" style=\"fill:none;stroke:#000000;stroke-linecap:square;stroke-width:0.8;\"/>\r\n    </g>\r\n    <g id=\"text_5\">\r\n     <!-- 140 -->\r\n     <g transform=\"translate(83.985252 220.2072)scale(0.1 -0.1)\">\r\n      <defs>\r\n       <path d=\"M 2419 4116 \r\nL 825 1625 \r\nL 2419 1625 \r\nL 2419 4116 \r\nz\r\nM 2253 4666 \r\nL 3047 4666 \r\nL 3047 1625 \r\nL 3713 1625 \r\nL 3713 1100 \r\nL 3047 1100 \r\nL 3047 0 \r\nL 2419 0 \r\nL 2419 1100 \r\nL 313 1100 \r\nL 313 1709 \r\nL 2253 4666 \r\nz\r\n\" id=\"DejaVuSans-34\" transform=\"scale(0.015625)\"/>\r\n      </defs>\r\n      <use xlink:href=\"#DejaVuSans-31\"/>\r\n      <use x=\"63.623047\" xlink:href=\"#DejaVuSans-34\"/>\r\n      <use x=\"127.246094\" xlink:href=\"#DejaVuSans-30\"/>\r\n     </g>\r\n    </g>\r\n   </g>\r\n   <g id=\"xtick_6\">\r\n    <g id=\"line2d_7\">\r\n     <path d=\"M 120.786006 202.001958 \r\nL 119.042758 203.713915 \r\n\" style=\"fill:none;stroke:#000000;stroke-linecap:square;stroke-width:0.8;\"/>\r\n    </g>\r\n    <g id=\"text_6\">\r\n     <!-- 160 -->\r\n     <g transform=\"translate(103.250483 226.654561)scale(0.1 -0.1)\">\r\n      <use xlink:href=\"#DejaVuSans-31\"/>\r\n      <use x=\"63.623047\" xlink:href=\"#DejaVuSans-36\"/>\r\n      <use x=\"127.246094\" xlink:href=\"#DejaVuSans-30\"/>\r\n     </g>\r\n    </g>\r\n   </g>\r\n   <g id=\"xtick_7\">\r\n    <g id=\"line2d_8\">\r\n     <path d=\"M 140.331893 208.379337 \r\nL 138.618085 210.11989 \r\n\" style=\"fill:none;stroke:#000000;stroke-linecap:square;stroke-width:0.8;\"/>\r\n    </g>\r\n    <g id=\"text_7\">\r\n     <!-- 180 -->\r\n     <g transform=\"translate(122.837599 233.209645)scale(0.1 -0.1)\">\r\n      <use xlink:href=\"#DejaVuSans-31\"/>\r\n      <use x=\"63.623047\" xlink:href=\"#DejaVuSans-38\"/>\r\n      <use x=\"127.246094\" xlink:href=\"#DejaVuSans-30\"/>\r\n     </g>\r\n    </g>\r\n   </g>\r\n  </g>\r\n  <g id=\"axis3d_2\">\r\n   <g id=\"line2d_9\">\r\n    <path d=\"M 210.64668 144.32791 \r\nL 145.759879 210.91773 \r\n\" style=\"fill:none;stroke:#000000;stroke-linecap:square;stroke-width:0.8;\"/>\r\n   </g>\r\n   <g id=\"Line3DCollection_2\">\r\n    <path d=\"M 38.962148 64.508754 \r\nL 42.440539 155.249023 \r\nL 162.824005 193.405739 \r\n\" style=\"fill:none;stroke:#b0b0b0;stroke-width:0.8;\"/>\r\n    <path d=\"M 58.289631 50.404437 \r\nL 60.870064 139.80103 \r\nL 179.493761 176.298469 \r\n\" style=\"fill:none;stroke:#b0b0b0;stroke-width:0.8;\"/>\r\n    <path d=\"M 76.770817 36.917709 \r\nL 78.526269 125.001248 \r\nL 195.428646 159.945356 \r\n\" style=\"fill:none;stroke:#b0b0b0;stroke-width:0.8;\"/>\r\n   </g>\r\n   <g id=\"xtick_8\">\r\n    <g id=\"line2d_10\">\r\n     <path d=\"M 161.810389 193.084464 \r\nL 164.853814 194.049107 \r\n\" style=\"fill:none;stroke:#000000;stroke-linecap:square;stroke-width:0.8;\"/>\r\n    </g>\r\n    <g id=\"text_8\">\r\n     <!-- 20 -->\r\n     <g transform=\"translate(169.137412 214.195374)scale(0.1 -0.1)\">\r\n      <use xlink:href=\"#DejaVuSans-32\"/>\r\n      <use x=\"63.623047\" xlink:href=\"#DejaVuSans-30\"/>\r\n     </g>\r\n    </g>\r\n   </g>\r\n   <g id=\"xtick_9\">\r\n    <g id=\"line2d_11\">\r\n     <path d=\"M 178.496084 175.991509 \r\nL 181.491594 176.91315 \r\n\" style=\"fill:none;stroke:#000000;stroke-linecap:square;stroke-width:0.8;\"/>\r\n    </g>\r\n    <g id=\"text_9\">\r\n     <!-- 40 -->\r\n     <g transform=\"translate(185.533008 196.77853)scale(0.1 -0.1)\">\r\n      <use xlink:href=\"#DejaVuSans-34\"/>\r\n      <use x=\"63.623047\" xlink:href=\"#DejaVuSans-30\"/>\r\n     </g>\r\n    </g>\r\n   </g>\r\n   <g id=\"xtick_10\">\r\n    <g id=\"line2d_12\">\r\n     <path d=\"M 194.446504 159.651777 \r\nL 197.395319 160.533228 \r\n\" style=\"fill:none;stroke:#000000;stroke-linecap:square;stroke-width:0.8;\"/>\r\n    </g>\r\n    <g id=\"text_10\">\r\n     <!-- 60 -->\r\n     <g transform=\"translate(201.205323 180.13002)scale(0.1 -0.1)\">\r\n      <use xlink:href=\"#DejaVuSans-36\"/>\r\n      <use x=\"63.623047\" xlink:href=\"#DejaVuSans-30\"/>\r\n     </g>\r\n    </g>\r\n   </g>\r\n  </g>\r\n  <g id=\"axis3d_3\">\r\n   <g id=\"line2d_13\">\r\n    <path d=\"M 210.64668 144.32791 \r\nL 214.758571 54.534718 \r\n\" style=\"fill:none;stroke:#000000;stroke-linecap:square;stroke-width:0.8;\"/>\r\n   </g>\r\n   <g id=\"Line3DCollection_3\">\r\n    <path d=\"M 210.841843 140.066054 \r\nL 95.376537 106.708987 \r\nL 23.408085 166.662687 \r\n\" style=\"fill:none;stroke:#b0b0b0;stroke-width:0.8;\"/>\r\n    <path d=\"M 211.783635 119.499717 \r\nL 95.147589 86.799063 \r\nL 22.393572 145.59566 \r\n\" style=\"fill:none;stroke:#b0b0b0;stroke-width:0.8;\"/>\r\n    <path d=\"M 212.744912 98.507877 \r\nL 94.914132 66.497073 \r\nL 21.357261 124.075991 \r\n\" style=\"fill:none;stroke:#b0b0b0;stroke-width:0.8;\"/>\r\n    <path d=\"M 213.726286 77.077192 \r\nL 94.676033 45.79132 \r\nL 20.298442 102.088934 \r\n\" style=\"fill:none;stroke:#b0b0b0;stroke-width:0.8;\"/>\r\n   </g>\r\n   <g id=\"xtick_11\">\r\n    <g id=\"line2d_14\">\r\n     <path d=\"M 209.872675 139.786068 \r\nL 212.782489 140.626692 \r\n\" style=\"fill:none;stroke:#000000;stroke-linecap:square;stroke-width:0.8;\"/>\r\n    </g>\r\n    <g id=\"text_11\">\r\n     <!-- 0 -->\r\n     <g transform=\"translate(225.934908 145.071387)scale(0.1 -0.1)\">\r\n      <use xlink:href=\"#DejaVuSans-30\"/>\r\n     </g>\r\n    </g>\r\n   </g>\r\n   <g id=\"xtick_12\">\r\n    <g id=\"line2d_15\">\r\n     <path d=\"M 210.80417 119.225109 \r\nL 213.744923 120.049593 \r\n\" style=\"fill:none;stroke:#000000;stroke-linecap:square;stroke-width:0.8;\"/>\r\n    </g>\r\n    <g id=\"text_12\">\r\n     <!-- 5 -->\r\n     <g transform=\"translate(227.059615 124.554943)scale(0.1 -0.1)\">\r\n      <defs>\r\n       <path d=\"M 691 4666 \r\nL 3169 4666 \r\nL 3169 4134 \r\nL 1269 4134 \r\nL 1269 2991 \r\nQ 1406 3038 1543 3061 \r\nQ 1681 3084 1819 3084 \r\nQ 2600 3084 3056 2656 \r\nQ 3513 2228 3513 1497 \r\nQ 3513 744 3044 326 \r\nQ 2575 -91 1722 -91 \r\nQ 1428 -91 1123 -41 \r\nQ 819 9 494 109 \r\nL 494 744 \r\nQ 775 591 1075 516 \r\nQ 1375 441 1709 441 \r\nQ 2250 441 2565 725 \r\nQ 2881 1009 2881 1497 \r\nQ 2881 1984 2565 2268 \r\nQ 2250 2553 1709 2553 \r\nQ 1456 2553 1204 2497 \r\nQ 953 2441 691 2322 \r\nL 691 4666 \r\nz\r\n\" id=\"DejaVuSans-35\" transform=\"scale(0.015625)\"/>\r\n      </defs>\r\n      <use xlink:href=\"#DejaVuSans-35\"/>\r\n     </g>\r\n    </g>\r\n   </g>\r\n   <g id=\"xtick_13\">\r\n    <g id=\"line2d_16\">\r\n     <path d=\"M 211.75493 98.238931 \r\nL 214.727285 99.046424 \r\n\" style=\"fill:none;stroke:#000000;stroke-linecap:square;stroke-width:0.8;\"/>\r\n    </g>\r\n    <g id=\"text_13\">\r\n     <!-- 10 -->\r\n     <g transform=\"translate(225.026255 103.615622)scale(0.1 -0.1)\">\r\n      <use xlink:href=\"#DejaVuSans-31\"/>\r\n      <use x=\"63.623047\" xlink:href=\"#DejaVuSans-30\"/>\r\n     </g>\r\n    </g>\r\n   </g>\r\n   <g id=\"xtick_14\">\r\n    <g id=\"line2d_17\">\r\n     <path d=\"M 212.725558 76.814206 \r\nL 215.730201 77.603812 \r\n\" style=\"fill:none;stroke:#000000;stroke-linecap:square;stroke-width:0.8;\"/>\r\n    </g>\r\n    <g id=\"text_14\">\r\n     <!-- 15 -->\r\n     <g transform=\"translate(226.19805 82.240211)scale(0.1 -0.1)\">\r\n      <use xlink:href=\"#DejaVuSans-31\"/>\r\n      <use x=\"63.623047\" xlink:href=\"#DejaVuSans-35\"/>\r\n     </g>\r\n    </g>\r\n   </g>\r\n  </g>\r\n  <g id=\"axes_1\">\r\n   <g id=\"Path3DCollection_1\">\r\n    <defs>\r\n     <path d=\"M 0 2.236068 \r\nC 0.593012 2.236068 1.161816 2.000462 1.581139 1.581139 \r\nC 2.000462 1.161816 2.236068 0.593012 2.236068 -0 \r\nC 2.236068 -0.593012 2.000462 -1.161816 1.581139 -1.581139 \r\nC 1.161816 -2.000462 0.593012 -2.236068 0 -2.236068 \r\nC -0.593012 -2.236068 -1.161816 -2.000462 -1.581139 -1.581139 \r\nC -2.000462 -1.161816 -2.236068 -0.593012 -2.236068 0 \r\nC -2.236068 0.593012 -2.000462 1.161816 -1.581139 1.581139 \r\nC -1.161816 2.000462 -0.593012 2.236068 0 2.236068 \r\nz\r\n\" id=\"C0_0_c9b9beb702\"/>\r\n    </defs>\r\n    <g clip-path=\"url(#p841237c1e9)\">\r\n     <use style=\"fill:#1f77b4;fill-opacity:0.3;stroke:#1f77b4;stroke-opacity:0.3;\" x=\"181.588526\" xlink:href=\"#C0_0_c9b9beb702\" y=\"82.480444\"/>\r\n    </g>\r\n    <g clip-path=\"url(#p841237c1e9)\">\r\n     <use style=\"fill:#1f77b4;fill-opacity:0.3;stroke:#1f77b4;stroke-opacity:0.3;\" x=\"181.588526\" xlink:href=\"#C0_0_c9b9beb702\" y=\"82.480444\"/>\r\n    </g>\r\n    <g clip-path=\"url(#p841237c1e9)\">\r\n     <use style=\"fill:#1f77b4;fill-opacity:0.349469;stroke:#1f77b4;stroke-opacity:0.349469;\" x=\"173.947755\" xlink:href=\"#C0_0_c9b9beb702\" y=\"89.160414\"/>\r\n    </g>\r\n    <g clip-path=\"url(#p841237c1e9)\">\r\n     <use style=\"fill:#1f77b4;fill-opacity:0.415043;stroke:#1f77b4;stroke-opacity:0.415043;\" x=\"40.562792\" xlink:href=\"#C0_0_c9b9beb702\" y=\"161.51005\"/>\r\n    </g>\r\n    <g clip-path=\"url(#p841237c1e9)\">\r\n     <use style=\"fill:#1f77b4;fill-opacity:0.424188;stroke:#1f77b4;stroke-opacity:0.424188;\" x=\"35.703274\" xlink:href=\"#C0_0_c9b9beb702\" y=\"163.660961\"/>\r\n    </g>\r\n    <g clip-path=\"url(#p841237c1e9)\">\r\n     <use style=\"fill:#1f77b4;fill-opacity:0.424188;stroke:#1f77b4;stroke-opacity:0.424188;\" x=\"35.703274\" xlink:href=\"#C0_0_c9b9beb702\" y=\"163.660961\"/>\r\n    </g>\r\n    <g clip-path=\"url(#p841237c1e9)\">\r\n     <use style=\"fill:#1f77b4;fill-opacity:0.425267;stroke:#1f77b4;stroke-opacity:0.425267;\" x=\"44.274669\" xlink:href=\"#C0_0_c9b9beb702\" y=\"160.863247\"/>\r\n    </g>\r\n    <g clip-path=\"url(#p841237c1e9)\">\r\n     <use style=\"fill:#1f77b4;fill-opacity:0.425267;stroke:#1f77b4;stroke-opacity:0.425267;\" x=\"44.274669\" xlink:href=\"#C0_0_c9b9beb702\" y=\"160.863247\"/>\r\n    </g>\r\n    <g clip-path=\"url(#p841237c1e9)\">\r\n     <use style=\"fill:#1f77b4;fill-opacity:0.439296;stroke:#1f77b4;stroke-opacity:0.439296;\" x=\"45.337955\" xlink:href=\"#C0_0_c9b9beb702\" y=\"161.538904\"/>\r\n    </g>\r\n    <g clip-path=\"url(#p841237c1e9)\">\r\n     <use style=\"fill:#1f77b4;fill-opacity:0.459942;stroke:#1f77b4;stroke-opacity:0.459942;\" x=\"47.396797\" xlink:href=\"#C0_0_c9b9beb702\" y=\"162.533233\"/>\r\n    </g>\r\n    <g clip-path=\"url(#p841237c1e9)\">\r\n     <use style=\"fill:#1f77b4;fill-opacity:0.459942;stroke:#1f77b4;stroke-opacity:0.459942;\" x=\"47.396797\" xlink:href=\"#C0_0_c9b9beb702\" y=\"162.533233\"/>\r\n    </g>\r\n    <g clip-path=\"url(#p841237c1e9)\">\r\n     <use style=\"fill:#1f77b4;fill-opacity:0.461584;stroke:#1f77b4;stroke-opacity:0.461584;\" x=\"50.654832\" xlink:href=\"#C0_0_c9b9beb702\" y=\"159.184243\"/>\r\n    </g>\r\n    <g clip-path=\"url(#p841237c1e9)\">\r\n     <use style=\"fill:#1f77b4;fill-opacity:0.483901;stroke:#1f77b4;stroke-opacity:0.483901;\" x=\"199.448963\" xlink:href=\"#C0_0_c9b9beb702\" y=\"62.98286\"/>\r\n    </g>\r\n    <g clip-path=\"url(#p841237c1e9)\">\r\n     <use style=\"fill:#1f77b4;fill-opacity:0.515773;stroke:#1f77b4;stroke-opacity:0.515773;\" x=\"60.44411\" xlink:href=\"#C0_0_c9b9beb702\" y=\"158.341374\"/>\r\n    </g>\r\n    <g clip-path=\"url(#p841237c1e9)\">\r\n     <use style=\"fill:#1f77b4;fill-opacity:0.515773;stroke:#1f77b4;stroke-opacity:0.515773;\" x=\"60.44411\" xlink:href=\"#C0_0_c9b9beb702\" y=\"158.341374\"/>\r\n    </g>\r\n    <g clip-path=\"url(#p841237c1e9)\">\r\n     <use style=\"fill:#1f77b4;fill-opacity:0.515773;stroke:#1f77b4;stroke-opacity:0.515773;\" x=\"60.44411\" xlink:href=\"#C0_0_c9b9beb702\" y=\"158.341374\"/>\r\n    </g>\r\n    <g clip-path=\"url(#p841237c1e9)\">\r\n     <use style=\"fill:#1f77b4;fill-opacity:0.532895;stroke:#1f77b4;stroke-opacity:0.532895;\" x=\"169.053415\" xlink:href=\"#C0_0_c9b9beb702\" y=\"75.923232\"/>\r\n    </g>\r\n    <g clip-path=\"url(#p841237c1e9)\">\r\n     <use style=\"fill:#1f77b4;fill-opacity:0.538738;stroke:#1f77b4;stroke-opacity:0.538738;\" x=\"71.942412\" xlink:href=\"#C0_0_c9b9beb702\" y=\"151.971654\"/>\r\n    </g>\r\n    <g clip-path=\"url(#p841237c1e9)\">\r\n     <use style=\"fill:#1f77b4;fill-opacity:0.538738;stroke:#1f77b4;stroke-opacity:0.538738;\" x=\"71.942412\" xlink:href=\"#C0_0_c9b9beb702\" y=\"151.971654\"/>\r\n    </g>\r\n    <g clip-path=\"url(#p841237c1e9)\">\r\n     <use style=\"fill:#1f77b4;fill-opacity:0.538775;stroke:#1f77b4;stroke-opacity:0.538775;\" x=\"67.36417\" xlink:href=\"#C0_0_c9b9beb702\" y=\"154.844683\"/>\r\n    </g>\r\n    <g clip-path=\"url(#p841237c1e9)\">\r\n     <use style=\"fill:#1f77b4;fill-opacity:0.538775;stroke:#1f77b4;stroke-opacity:0.538775;\" x=\"67.36417\" xlink:href=\"#C0_0_c9b9beb702\" y=\"154.844683\"/>\r\n    </g>\r\n    <g clip-path=\"url(#p841237c1e9)\">\r\n     <use style=\"fill:#1f77b4;fill-opacity:0.539574;stroke:#1f77b4;stroke-opacity:0.539574;\" x=\"70.822643\" xlink:href=\"#C0_0_c9b9beb702\" y=\"158.328271\"/>\r\n    </g>\r\n    <g clip-path=\"url(#p841237c1e9)\">\r\n     <use style=\"fill:#1f77b4;fill-opacity:0.571667;stroke:#1f77b4;stroke-opacity:0.571667;\" x=\"81.02924\" xlink:href=\"#C0_0_c9b9beb702\" y=\"150.073387\"/>\r\n    </g>\r\n    <g clip-path=\"url(#p841237c1e9)\">\r\n     <use style=\"fill:#1f77b4;fill-opacity:0.581504;stroke:#1f77b4;stroke-opacity:0.581504;\" x=\"155.217692\" xlink:href=\"#C0_0_c9b9beb702\" y=\"103.890089\"/>\r\n    </g>\r\n    <g clip-path=\"url(#p841237c1e9)\">\r\n     <use style=\"fill:#1f77b4;fill-opacity:0.58424;stroke:#1f77b4;stroke-opacity:0.58424;\" x=\"85.396589\" xlink:href=\"#C0_0_c9b9beb702\" y=\"144.904429\"/>\r\n    </g>\r\n    <g clip-path=\"url(#p841237c1e9)\">\r\n     <use style=\"fill:#1f77b4;fill-opacity:0.58689;stroke:#1f77b4;stroke-opacity:0.58689;\" x=\"152.538807\" xlink:href=\"#C0_0_c9b9beb702\" y=\"109.88743\"/>\r\n    </g>\r\n    <g clip-path=\"url(#p841237c1e9)\">\r\n     <use style=\"fill:#1f77b4;fill-opacity:0.58689;stroke:#1f77b4;stroke-opacity:0.58689;\" x=\"152.538807\" xlink:href=\"#C0_0_c9b9beb702\" y=\"109.88743\"/>\r\n    </g>\r\n    <g clip-path=\"url(#p841237c1e9)\">\r\n     <use style=\"fill:#1f77b4;fill-opacity:0.586907;stroke:#1f77b4;stroke-opacity:0.586907;\" x=\"92.215835\" xlink:href=\"#C0_0_c9b9beb702\" y=\"135.235485\"/>\r\n    </g>\r\n    <g clip-path=\"url(#p841237c1e9)\">\r\n     <use style=\"fill:#1f77b4;fill-opacity:0.58813;stroke:#1f77b4;stroke-opacity:0.58813;\" x=\"79.970445\" xlink:href=\"#C0_0_c9b9beb702\" y=\"147.966333\"/>\r\n    </g>\r\n    <g clip-path=\"url(#p841237c1e9)\">\r\n     <use style=\"fill:#1f77b4;fill-opacity:0.589362;stroke:#1f77b4;stroke-opacity:0.589362;\" x=\"76.06915\" xlink:href=\"#C0_0_c9b9beb702\" y=\"154.361854\"/>\r\n    </g>\r\n    <g clip-path=\"url(#p841237c1e9)\">\r\n     <use style=\"fill:#1f77b4;fill-opacity:0.607984;stroke:#1f77b4;stroke-opacity:0.607984;\" x=\"92.400968\" xlink:href=\"#C0_0_c9b9beb702\" y=\"142.549946\"/>\r\n    </g>\r\n    <g clip-path=\"url(#p841237c1e9)\">\r\n     <use style=\"fill:#1f77b4;fill-opacity:0.607984;stroke:#1f77b4;stroke-opacity:0.607984;\" x=\"92.400968\" xlink:href=\"#C0_0_c9b9beb702\" y=\"142.549946\"/>\r\n    </g>\r\n    <g clip-path=\"url(#p841237c1e9)\">\r\n     <use style=\"fill:#1f77b4;fill-opacity:0.609427;stroke:#1f77b4;stroke-opacity:0.609427;\" x=\"124.212536\" xlink:href=\"#C0_0_c9b9beb702\" y=\"121.270575\"/>\r\n    </g>\r\n    <g clip-path=\"url(#p841237c1e9)\">\r\n     <use style=\"fill:#1f77b4;fill-opacity:0.61366;stroke:#1f77b4;stroke-opacity:0.61366;\" x=\"79.102436\" xlink:href=\"#C0_0_c9b9beb702\" y=\"154.354924\"/>\r\n    </g>\r\n    <g clip-path=\"url(#p841237c1e9)\">\r\n     <use style=\"fill:#1f77b4;fill-opacity:0.61366;stroke:#1f77b4;stroke-opacity:0.61366;\" x=\"79.102436\" xlink:href=\"#C0_0_c9b9beb702\" y=\"154.354924\"/>\r\n    </g>\r\n    <g clip-path=\"url(#p841237c1e9)\">\r\n     <use style=\"fill:#1f77b4;fill-opacity:0.619146;stroke:#1f77b4;stroke-opacity:0.619146;\" x=\"169.004333\" xlink:href=\"#C0_0_c9b9beb702\" y=\"88.802093\"/>\r\n    </g>\r\n    <g clip-path=\"url(#p841237c1e9)\">\r\n     <use style=\"fill:#1f77b4;fill-opacity:0.621817;stroke:#1f77b4;stroke-opacity:0.621817;\" x=\"81.969278\" xlink:href=\"#C0_0_c9b9beb702\" y=\"154.162024\"/>\r\n    </g>\r\n    <g clip-path=\"url(#p841237c1e9)\">\r\n     <use style=\"fill:#1f77b4;fill-opacity:0.622328;stroke:#1f77b4;stroke-opacity:0.622328;\" x=\"99.458789\" xlink:href=\"#C0_0_c9b9beb702\" y=\"135.70888\"/>\r\n    </g>\r\n    <g clip-path=\"url(#p841237c1e9)\">\r\n     <use style=\"fill:#1f77b4;fill-opacity:0.62547;stroke:#1f77b4;stroke-opacity:0.62547;\" x=\"80.509852\" xlink:href=\"#C0_0_c9b9beb702\" y=\"149.136326\"/>\r\n    </g>\r\n    <g clip-path=\"url(#p841237c1e9)\">\r\n     <use style=\"fill:#1f77b4;fill-opacity:0.62547;stroke:#1f77b4;stroke-opacity:0.62547;\" x=\"80.509852\" xlink:href=\"#C0_0_c9b9beb702\" y=\"149.136326\"/>\r\n    </g>\r\n    <g clip-path=\"url(#p841237c1e9)\">\r\n     <use style=\"fill:#1f77b4;fill-opacity:0.632837;stroke:#1f77b4;stroke-opacity:0.632837;\" x=\"112.553414\" xlink:href=\"#C0_0_c9b9beb702\" y=\"128.101831\"/>\r\n    </g>\r\n    <g clip-path=\"url(#p841237c1e9)\">\r\n     <use style=\"fill:#1f77b4;fill-opacity:0.643215;stroke:#1f77b4;stroke-opacity:0.643215;\" x=\"155.658575\" xlink:href=\"#C0_0_c9b9beb702\" y=\"96.771476\"/>\r\n    </g>\r\n    <g clip-path=\"url(#p841237c1e9)\">\r\n     <use style=\"fill:#1f77b4;fill-opacity:0.643215;stroke:#1f77b4;stroke-opacity:0.643215;\" x=\"155.658575\" xlink:href=\"#C0_0_c9b9beb702\" y=\"96.771476\"/>\r\n    </g>\r\n    <g clip-path=\"url(#p841237c1e9)\">\r\n     <use style=\"fill:#1f77b4;fill-opacity:0.645883;stroke:#1f77b4;stroke-opacity:0.645883;\" x=\"157.589253\" xlink:href=\"#C0_0_c9b9beb702\" y=\"101.513365\"/>\r\n    </g>\r\n    <g clip-path=\"url(#p841237c1e9)\">\r\n     <use style=\"fill:#1f77b4;fill-opacity:0.645883;stroke:#1f77b4;stroke-opacity:0.645883;\" x=\"157.589253\" xlink:href=\"#C0_0_c9b9beb702\" y=\"101.513365\"/>\r\n    </g>\r\n    <g clip-path=\"url(#p841237c1e9)\">\r\n     <use style=\"fill:#1f77b4;fill-opacity:0.64644;stroke:#1f77b4;stroke-opacity:0.64644;\" x=\"152.583136\" xlink:href=\"#C0_0_c9b9beb702\" y=\"109.634196\"/>\r\n    </g>\r\n    <g clip-path=\"url(#p841237c1e9)\">\r\n     <use style=\"fill:#1f77b4;fill-opacity:0.648778;stroke:#1f77b4;stroke-opacity:0.648778;\" x=\"93.457275\" xlink:href=\"#C0_0_c9b9beb702\" y=\"138.079592\"/>\r\n    </g>\r\n    <g clip-path=\"url(#p841237c1e9)\">\r\n     <use style=\"fill:#1f77b4;fill-opacity:0.65395;stroke:#1f77b4;stroke-opacity:0.65395;\" x=\"87.957838\" xlink:href=\"#C0_0_c9b9beb702\" y=\"151.625321\"/>\r\n    </g>\r\n    <g clip-path=\"url(#p841237c1e9)\">\r\n     <use style=\"fill:#1f77b4;fill-opacity:0.658269;stroke:#1f77b4;stroke-opacity:0.658269;\" x=\"93.008624\" xlink:href=\"#C0_0_c9b9beb702\" y=\"146.618675\"/>\r\n    </g>\r\n    <g clip-path=\"url(#p841237c1e9)\">\r\n     <use style=\"fill:#1f77b4;fill-opacity:0.689655;stroke:#1f77b4;stroke-opacity:0.689655;\" x=\"173.766505\" xlink:href=\"#C0_0_c9b9beb702\" y=\"83.702738\"/>\r\n    </g>\r\n    <g clip-path=\"url(#p841237c1e9)\">\r\n     <use style=\"fill:#1f77b4;fill-opacity:0.697198;stroke:#1f77b4;stroke-opacity:0.697198;\" x=\"126.56161\" xlink:href=\"#C0_0_c9b9beb702\" y=\"130.441243\"/>\r\n    </g>\r\n    <g clip-path=\"url(#p841237c1e9)\">\r\n     <use style=\"fill:#1f77b4;fill-opacity:0.700697;stroke:#1f77b4;stroke-opacity:0.700697;\" x=\"176.357059\" xlink:href=\"#C0_0_c9b9beb702\" y=\"84.750239\"/>\r\n    </g>\r\n    <g clip-path=\"url(#p841237c1e9)\">\r\n     <use style=\"fill:#1f77b4;fill-opacity:0.709221;stroke:#1f77b4;stroke-opacity:0.709221;\" x=\"117.828842\" xlink:href=\"#C0_0_c9b9beb702\" y=\"131.566892\"/>\r\n    </g>\r\n    <g clip-path=\"url(#p841237c1e9)\">\r\n     <use style=\"fill:#1f77b4;fill-opacity:0.709221;stroke:#1f77b4;stroke-opacity:0.709221;\" x=\"117.828842\" xlink:href=\"#C0_0_c9b9beb702\" y=\"131.566892\"/>\r\n    </g>\r\n    <g clip-path=\"url(#p841237c1e9)\">\r\n     <use style=\"fill:#1f77b4;fill-opacity:0.717497;stroke:#1f77b4;stroke-opacity:0.717497;\" x=\"100.73115\" xlink:href=\"#C0_0_c9b9beb702\" y=\"137.171409\"/>\r\n    </g>\r\n    <g clip-path=\"url(#p841237c1e9)\">\r\n     <use style=\"fill:#1f77b4;fill-opacity:0.717497;stroke:#1f77b4;stroke-opacity:0.717497;\" x=\"100.73115\" xlink:href=\"#C0_0_c9b9beb702\" y=\"137.171409\"/>\r\n    </g>\r\n    <g clip-path=\"url(#p841237c1e9)\">\r\n     <use style=\"fill:#1f77b4;fill-opacity:0.717497;stroke:#1f77b4;stroke-opacity:0.717497;\" x=\"100.73115\" xlink:href=\"#C0_0_c9b9beb702\" y=\"137.171409\"/>\r\n    </g>\r\n    <g clip-path=\"url(#p841237c1e9)\">\r\n     <use style=\"fill:#1f77b4;fill-opacity:0.717497;stroke:#1f77b4;stroke-opacity:0.717497;\" x=\"100.73115\" xlink:href=\"#C0_0_c9b9beb702\" y=\"137.171409\"/>\r\n    </g>\r\n    <g clip-path=\"url(#p841237c1e9)\">\r\n     <use style=\"fill:#1f77b4;fill-opacity:0.725123;stroke:#1f77b4;stroke-opacity:0.725123;\" x=\"120.47235\" xlink:href=\"#C0_0_c9b9beb702\" y=\"131.706963\"/>\r\n    </g>\r\n    <g clip-path=\"url(#p841237c1e9)\">\r\n     <use style=\"fill:#1f77b4;fill-opacity:0.728694;stroke:#1f77b4;stroke-opacity:0.728694;\" x=\"89.367641\" xlink:href=\"#C0_0_c9b9beb702\" y=\"146.986041\"/>\r\n    </g>\r\n    <g clip-path=\"url(#p841237c1e9)\">\r\n     <use style=\"fill:#1f77b4;fill-opacity:0.731163;stroke:#1f77b4;stroke-opacity:0.731163;\" x=\"191.891892\" xlink:href=\"#C0_0_c9b9beb702\" y=\"73.246618\"/>\r\n    </g>\r\n    <g clip-path=\"url(#p841237c1e9)\">\r\n     <use style=\"fill:#1f77b4;fill-opacity:0.731166;stroke:#1f77b4;stroke-opacity:0.731166;\" x=\"165.988923\" xlink:href=\"#C0_0_c9b9beb702\" y=\"94.181707\"/>\r\n    </g>\r\n    <g clip-path=\"url(#p841237c1e9)\">\r\n     <use style=\"fill:#1f77b4;fill-opacity:0.731166;stroke:#1f77b4;stroke-opacity:0.731166;\" x=\"165.988923\" xlink:href=\"#C0_0_c9b9beb702\" y=\"94.181707\"/>\r\n    </g>\r\n    <g clip-path=\"url(#p841237c1e9)\">\r\n     <use style=\"fill:#1f77b4;fill-opacity:0.731166;stroke:#1f77b4;stroke-opacity:0.731166;\" x=\"165.988923\" xlink:href=\"#C0_0_c9b9beb702\" y=\"94.181707\"/>\r\n    </g>\r\n    <g clip-path=\"url(#p841237c1e9)\">\r\n     <use style=\"fill:#1f77b4;fill-opacity:0.736319;stroke:#1f77b4;stroke-opacity:0.736319;\" x=\"115.513582\" xlink:href=\"#C0_0_c9b9beb702\" y=\"129.887553\"/>\r\n    </g>\r\n    <g clip-path=\"url(#p841237c1e9)\">\r\n     <use style=\"fill:#1f77b4;fill-opacity:0.751652;stroke:#1f77b4;stroke-opacity:0.751652;\" x=\"117.256023\" xlink:href=\"#C0_0_c9b9beb702\" y=\"125.339517\"/>\r\n    </g>\r\n    <g clip-path=\"url(#p841237c1e9)\">\r\n     <use style=\"fill:#1f77b4;fill-opacity:0.751652;stroke:#1f77b4;stroke-opacity:0.751652;\" x=\"117.256023\" xlink:href=\"#C0_0_c9b9beb702\" y=\"125.339517\"/>\r\n    </g>\r\n    <g clip-path=\"url(#p841237c1e9)\">\r\n     <use style=\"fill:#1f77b4;fill-opacity:0.768725;stroke:#1f77b4;stroke-opacity:0.768725;\" x=\"161.840545\" xlink:href=\"#C0_0_c9b9beb702\" y=\"107.450718\"/>\r\n    </g>\r\n    <g clip-path=\"url(#p841237c1e9)\">\r\n     <use style=\"fill:#1f77b4;fill-opacity:0.793139;stroke:#1f77b4;stroke-opacity:0.793139;\" x=\"160.815857\" xlink:href=\"#C0_0_c9b9beb702\" y=\"92.167519\"/>\r\n    </g>\r\n    <g clip-path=\"url(#p841237c1e9)\">\r\n     <use style=\"fill:#1f77b4;fill-opacity:0.828917;stroke:#1f77b4;stroke-opacity:0.828917;\" x=\"164.609401\" xlink:href=\"#C0_0_c9b9beb702\" y=\"89.593976\"/>\r\n    </g>\r\n    <g clip-path=\"url(#p841237c1e9)\">\r\n     <use style=\"fill:#1f77b4;fill-opacity:0.84301;stroke:#1f77b4;stroke-opacity:0.84301;\" x=\"176.410204\" xlink:href=\"#C0_0_c9b9beb702\" y=\"79.646627\"/>\r\n    </g>\r\n    <g clip-path=\"url(#p841237c1e9)\">\r\n     <use style=\"fill:#1f77b4;fill-opacity:0.847238;stroke:#1f77b4;stroke-opacity:0.847238;\" x=\"178.925539\" xlink:href=\"#C0_0_c9b9beb702\" y=\"75.721217\"/>\r\n    </g>\r\n    <g clip-path=\"url(#p841237c1e9)\">\r\n     <use style=\"fill:#1f77b4;fill-opacity:0.866103;stroke:#1f77b4;stroke-opacity:0.866103;\" x=\"157.949728\" xlink:href=\"#C0_0_c9b9beb702\" y=\"93.513555\"/>\r\n    </g>\r\n    <g clip-path=\"url(#p841237c1e9)\">\r\n     <use style=\"fill:#1f77b4;fill-opacity:0.8818;stroke:#1f77b4;stroke-opacity:0.8818;\" x=\"119.944735\" xlink:href=\"#C0_0_c9b9beb702\" y=\"127.651382\"/>\r\n    </g>\r\n    <g clip-path=\"url(#p841237c1e9)\">\r\n     <use style=\"fill:#1f77b4;fill-opacity:0.922942;stroke:#1f77b4;stroke-opacity:0.922942;\" x=\"156.334919\" xlink:href=\"#C0_0_c9b9beb702\" y=\"96.515378\"/>\r\n    </g>\r\n    <g clip-path=\"url(#p841237c1e9)\">\r\n     <use style=\"fill:#1f77b4;fill-opacity:0.922942;stroke:#1f77b4;stroke-opacity:0.922942;\" x=\"156.334919\" xlink:href=\"#C0_0_c9b9beb702\" y=\"96.515378\"/>\r\n    </g>\r\n    <g clip-path=\"url(#p841237c1e9)\">\r\n     <use style=\"fill:#1f77b4;fill-opacity:0.979602;stroke:#1f77b4;stroke-opacity:0.979602;\" x=\"156.818597\" xlink:href=\"#C0_0_c9b9beb702\" y=\"86.51382\"/>\r\n    </g>\r\n    <g clip-path=\"url(#p841237c1e9)\">\r\n     <use style=\"fill:#1f77b4;fill-opacity:0.979602;stroke:#1f77b4;stroke-opacity:0.979602;\" x=\"156.818597\" xlink:href=\"#C0_0_c9b9beb702\" y=\"86.51382\"/>\r\n    </g>\r\n    <g clip-path=\"url(#p841237c1e9)\">\r\n     <use style=\"fill:#1f77b4;stroke:#1f77b4;\" x=\"147.574223\" xlink:href=\"#C0_0_c9b9beb702\" y=\"93.281225\"/>\r\n    </g>\r\n    <g clip-path=\"url(#p841237c1e9)\">\r\n     <use style=\"fill:#1f77b4;stroke:#1f77b4;\" x=\"147.574223\" xlink:href=\"#C0_0_c9b9beb702\" y=\"93.281225\"/>\r\n    </g>\r\n   </g>\r\n  </g>\r\n </g>\r\n <defs>\r\n  <clipPath id=\"p841237c1e9\">\r\n   <rect height=\"217.44\" width=\"217.44\" x=\"7.2\" y=\"7.2\"/>\r\n  </clipPath>\r\n </defs>\r\n</svg>\r\n",
      "text/plain": [
       "<Figure size 432x288 with 1 Axes>"
      ]
     },
     "metadata": {
      "needs_background": "light"
     },
     "output_type": "display_data"
    }
   ],
   "source": [
    "fig = plt.figure()\n",
    "ax = fig.add_subplot(projection='3d')\n",
    "\n",
    "tall = raw_data['tall'].to_numpy()\n",
    "weight = raw_data['weight'].to_numpy()\n",
    "age = raw_data['label'].to_numpy()\n",
    "ax.scatter(tall,weight,age)\n",
    "plt.show()"
   ]
  },
  {
   "cell_type": "code",
   "execution_count": 4,
   "metadata": {},
   "outputs": [
    {
     "name": "stdout",
     "output_type": "stream",
     "text": [
      "X : [[152.6  44.7   1. ]\n",
      " [160.4  39.9   1. ]\n",
      " [112.2  21.1   1. ]\n",
      " [159.3  46.4   1. ]\n",
      " [150.9  46.6   1. ]\n",
      " [ 91.7  13.1   1. ]\n",
      " [ 74.8   8.    1. ]\n",
      " [111.1  16.1   1. ]\n",
      " [162.9  43.8   1. ]\n",
      " [131.3  27.6   1. ]\n",
      " [105.3  19.2   1. ]\n",
      " [177.8  61.7   1. ]\n",
      " [101.8  16.8   1. ]\n",
      " [151.5  49.    1. ]\n",
      " [ 86.2  11.    1. ]\n",
      " [137.8  23.7   1. ]\n",
      " [160.1  40.6   1. ]\n",
      " [119.9  21.2   1. ]\n",
      " [156.4  65.9   1. ]\n",
      " [154.7  48.1   1. ]\n",
      " [ 64.4   5.5   1. ]\n",
      " [ 67.5   7.7   1. ]\n",
      " [ 70.7   8.6   1. ]\n",
      " [162.1  49.4   1. ]\n",
      " [167.3  55.6   1. ]\n",
      " [155.   35.8   1. ]\n",
      " [ 70.7   8.6   1. ]\n",
      " [ 74.8   8.    1. ]\n",
      " [130.5  26.5   1. ]\n",
      " [ 91.7  13.1   1. ]\n",
      " [108.6  23.4   1. ]\n",
      " [160.1  40.6   1. ]\n",
      " [ 94.7  15.1   1. ]\n",
      " [ 95.3  13.2   1. ]\n",
      " [162.7  46.9   1. ]\n",
      " [131.6  35.1   1. ]\n",
      " [154.7  61.4   1. ]\n",
      " [ 64.4   5.5   1. ]\n",
      " [159.6  71.5   1. ]\n",
      " [115.6  24.2   1. ]\n",
      " [ 72.2   8.3   1. ]\n",
      " [124.6  29.4   1. ]\n",
      " [134.5  27.8   1. ]\n",
      " [171.3  53.6   1. ]\n",
      " [162.1  49.4   1. ]\n",
      " [155.   35.8   1. ]\n",
      " [ 76.7   9.7   1. ]\n",
      " [159.6  71.5   1. ]\n",
      " [150.9  46.6   1. ]\n",
      " [159.4  42.9   1. ]\n",
      " [138.2  30.7   1. ]\n",
      " [ 86.2  11.    1. ]\n",
      " [ 94.7  15.1   1. ]\n",
      " [154.7  48.1   1. ]\n",
      " [174.7  74.9   1. ]\n",
      " [131.3  27.6   1. ]\n",
      " [113.5  15.3   1. ]\n",
      " [119.9  21.2   1. ]\n",
      " [102.6  17.1   1. ]\n",
      " [103.4  14.2   1. ]\n",
      " [119.9  21.2   1. ]\n",
      " [160.1  55.3   1. ]\n",
      " [131.9  27.6   1. ]\n",
      " [103.7  15.5   1. ]\n",
      " [131.9  27.6   1. ]\n",
      " [111.1  21.    1. ]\n",
      " [ 86.2  11.    1. ]\n",
      " [152.   48.8   1. ]\n",
      " [103.4  14.2   1. ]\n",
      " [105.9  14.8   1. ]\n",
      " [162.1  49.4   1. ]\n",
      " [160.4  39.9   1. ]\n",
      " [103.7  15.5   1. ]\n",
      " [111.1  21.    1. ]\n",
      " [119.9  21.2   1. ]\n",
      " [164.7  55.5   1. ]\n",
      " [100.2  14.1   1. ]\n",
      " [170.1  52.1   1. ]\n",
      " [152.   48.8   1. ]\n",
      " [114.1  18.6   1. ]]\n",
      "y: [[11.5]\n",
      " [15.8]\n",
      " [ 6.6]\n",
      " [15.6]\n",
      " [11. ]\n",
      " [ 2.8]\n",
      " [ 0.8]\n",
      " [ 4.3]\n",
      " [12.8]\n",
      " [ 9.6]\n",
      " [ 4.9]\n",
      " [18.4]\n",
      " [ 4.4]\n",
      " [12. ]\n",
      " [ 2. ]\n",
      " [10.2]\n",
      " [17.9]\n",
      " [ 7.3]\n",
      " [12.8]\n",
      " [12.9]\n",
      " [ 0.3]\n",
      " [ 0.6]\n",
      " [ 0.8]\n",
      " [14.8]\n",
      " [16.2]\n",
      " [16.9]\n",
      " [ 0.8]\n",
      " [ 0.8]\n",
      " [ 8.7]\n",
      " [ 2.8]\n",
      " [ 6.6]\n",
      " [17.9]\n",
      " [ 3.3]\n",
      " [ 2.2]\n",
      " [16.3]\n",
      " [ 9.2]\n",
      " [16.5]\n",
      " [ 0.3]\n",
      " [13.6]\n",
      " [ 6.8]\n",
      " [ 0.8]\n",
      " [ 8.2]\n",
      " [ 8.3]\n",
      " [18.8]\n",
      " [14.8]\n",
      " [16.9]\n",
      " [ 1.4]\n",
      " [13.6]\n",
      " [11. ]\n",
      " [15.9]\n",
      " [ 8.3]\n",
      " [ 2. ]\n",
      " [ 3.3]\n",
      " [12.9]\n",
      " [18.4]\n",
      " [ 9.6]\n",
      " [ 5.7]\n",
      " [ 7.3]\n",
      " [ 3.9]\n",
      " [ 3.5]\n",
      " [ 7.3]\n",
      " [14.9]\n",
      " [ 8.2]\n",
      " [ 4.5]\n",
      " [ 8.2]\n",
      " [ 5.5]\n",
      " [ 2. ]\n",
      " [13.7]\n",
      " [ 3.5]\n",
      " [ 3.6]\n",
      " [14.8]\n",
      " [15.8]\n",
      " [ 4.5]\n",
      " [ 5.5]\n",
      " [ 7.3]\n",
      " [16.3]\n",
      " [ 3.3]\n",
      " [18.1]\n",
      " [13.7]\n",
      " [ 5.2]]\n"
     ]
    }
   ],
   "source": [
    "# split raw data into X and label\n",
    "X = raw_data[['tall', 'weight']].to_numpy()\n",
    "X = np.c_[X, np.ones(80)]\n",
    "y = raw_data['label'].to_numpy()\n",
    "y = y.reshape(80,1)\n",
    "print('X :',X)\n",
    "print('y:', y)"
   ]
  },
  {
   "cell_type": "code",
   "execution_count": 5,
   "metadata": {},
   "outputs": [],
   "source": [
    "analytic_W = np.dot(np.dot(np.linalg.inv(np.dot(X.T,X)),X.T),y)"
   ]
  },
  {
   "cell_type": "markdown",
   "metadata": {},
   "source": [
    "GD"
   ]
  },
  {
   "cell_type": "code",
   "execution_count": 6,
   "metadata": {},
   "outputs": [],
   "source": [
    "def numerucal_gradient(f,W,X,y):\n",
    "    h = 1e-4\n",
    "    grad = np.zeros_like(W)\n",
    "    for idx in range(W.size):\n",
    "        tmp_val = W[idx]\n",
    "        # f(x+h)\n",
    "        W[idx] = tmp_val+h\n",
    "        fxh1 = f(W,X,y)\n",
    "\n",
    "        # f(x-h)\n",
    "        W[idx] = tmp_val-h\n",
    "        fxh2 = f(W,X,y)    \n",
    "\n",
    "        grad[idx] = (fxh1-fxh2)/(2*h)\n",
    "        W[idx] = tmp_val\n",
    "    return grad"
   ]
  },
  {
   "cell_type": "code",
   "execution_count": 7,
   "metadata": {},
   "outputs": [
    {
     "data": {
      "text/plain": [
       "array([[10136.1083904 ],\n",
       "       [ 2652.79204865],\n",
       "       [   75.43032641]])"
      ]
     },
     "execution_count": 7,
     "metadata": {},
     "output_type": "execute_result"
    }
   ],
   "source": [
    "GD_W = np.random.rand(3).reshape(3,1)\n",
    "\n",
    "def fucntion_MSE(W,X,y):\n",
    "    mse = np.zeros(len(X))\n",
    "    for idx in range(len(X)):\n",
    "        mse[idx] = (np.dot(W.T,X[idx])-y[idx])**2\n",
    "    mse = np.sum(mse)/len(X)\n",
    "    return mse\n",
    "\n",
    "numerucal_gradient(fucntion_MSE, GD_W, X, y)"
   ]
  },
  {
   "cell_type": "code",
   "execution_count": null,
   "metadata": {},
   "outputs": [],
   "source": []
  }
 ],
 "metadata": {
  "interpreter": {
   "hash": "74269b44421b5226088cbe396a698e57b32e99aa8b9587c89bc5a30ffed5a971"
  },
  "kernelspec": {
   "display_name": "Python 3.9.7 64-bit ('kaggle': conda)",
   "language": "python",
   "name": "python3"
  },
  "language_info": {
   "codemirror_mode": {
    "name": "ipython",
    "version": 3
   },
   "file_extension": ".py",
   "mimetype": "text/x-python",
   "name": "python",
   "nbconvert_exporter": "python",
   "pygments_lexer": "ipython3",
   "version": "3.9.7"
  },
  "orig_nbformat": 4
 },
 "nbformat": 4,
 "nbformat_minor": 2
}
